{
  "nbformat": 4,
  "nbformat_minor": 0,
  "metadata": {
    "colab": {
      "name": "AuditNutriFinal.ipynb",
      "provenance": [],
      "include_colab_link": true
    },
    "kernelspec": {
      "name": "python3",
      "display_name": "Python 3"
    },
    "language_info": {
      "name": "python"
    }
  },
  "cells": [
    {
      "cell_type": "markdown",
      "metadata": {
        "id": "view-in-github",
        "colab_type": "text"
      },
      "source": [
        "<a href=\"https://colab.research.google.com/github/HarshitaJain01/Lab10/blob/main/AuditNutriFinal.ipynb\" target=\"_parent\"><img src=\"https://colab.research.google.com/assets/colab-badge.svg\" alt=\"Open In Colab\"/></a>"
      ]
    },
    {
      "cell_type": "code",
      "metadata": {
        "colab": {
          "resources": {
            "http://localhost:8080/nbextensions/google.colab/files.js": {
              "data": "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",
              "ok": true,
              "headers": [
                [
                  "content-type",
                  "application/javascript"
                ]
              ],
              "status": 200,
              "status_text": ""
            }
          },
          "base_uri": "https://localhost:8080/",
          "height": 73
        },
        "id": "w02BKhDOz2Sd",
        "outputId": "07bb9646-d932-4fa3-922e-f828cebb44bd"
      },
      "source": [
        "from google.colab import files \n",
        "uploaded = files.upload()"
      ],
      "execution_count": null,
      "outputs": [
        {
          "output_type": "display_data",
          "data": {
            "text/html": [
              "\n",
              "     <input type=\"file\" id=\"files-857b9f7e-fe55-4ab1-95da-851ab38d2566\" name=\"files[]\" multiple disabled\n",
              "        style=\"border:none\" />\n",
              "     <output id=\"result-857b9f7e-fe55-4ab1-95da-851ab38d2566\">\n",
              "      Upload widget is only available when the cell has been executed in the\n",
              "      current browser session. Please rerun this cell to enable.\n",
              "      </output>\n",
              "      <script src=\"/nbextensions/google.colab/files.js\"></script> "
            ],
            "text/plain": [
              "<IPython.core.display.HTML object>"
            ]
          },
          "metadata": {}
        },
        {
          "output_type": "stream",
          "name": "stdout",
          "text": [
            "Saving AuditNutri.csv to AuditNutri.csv\n"
          ]
        }
      ]
    },
    {
      "cell_type": "code",
      "metadata": {
        "colab": {
          "base_uri": "https://localhost:8080/"
        },
        "id": "tTxUZuBh0KeE",
        "outputId": "471c45f7-1920-4cb0-f55f-fed0851529d7"
      },
      "source": [
        "import pandas as pd\n",
        "import numpy as np\n",
        "import matplotlib.pyplot as plt\n",
        "import seaborn as sns\n",
        "AuditData=pd.read_csv('AuditNutri.csv')\n",
        "print(AuditData)"
      ],
      "execution_count": null,
      "outputs": [
        {
          "output_type": "stream",
          "name": "stdout",
          "text": [
            "                          Timestamp  ... Do you think that we often feel hungry in the evening and to fill your tummy you go for packed food.\n",
            "0    2021/11/14 2:56:11 PM GMT+5:30  ...                                                yes                                                  \n",
            "1    2021/11/14 2:56:55 PM GMT+5:30  ...                                                 No                                                  \n",
            "2    2021/11/14 2:57:49 PM GMT+5:30  ...                                                yes                                                  \n",
            "3    2021/11/14 2:57:51 PM GMT+5:30  ...                                                yes                                                  \n",
            "4    2021/11/14 2:57:59 PM GMT+5:30  ...                                                yes                                                  \n",
            "..                              ...  ...                                                ...                                                  \n",
            "166                             NaN  ...                                                yes                                                  \n",
            "167                             NaN  ...                                                yes                                                  \n",
            "168                             NaN  ...                                                 No                                                  \n",
            "169                             NaN  ...                                                 No                                                  \n",
            "170                             NaN  ...                                                yes                                                  \n",
            "\n",
            "[171 rows x 11 columns]\n"
          ]
        }
      ]
    },
    {
      "cell_type": "code",
      "metadata": {
        "colab": {
          "base_uri": "https://localhost:8080/",
          "height": 314
        },
        "id": "VD3qGnrzSiXM",
        "outputId": "7dac358a-7fcf-4768-9691-e5a61248d404"
      },
      "source": [
        "AuditData.describe()"
      ],
      "execution_count": null,
      "outputs": [
        {
          "output_type": "execute_result",
          "data": {
            "text/html": [
              "<div>\n",
              "<style scoped>\n",
              "    .dataframe tbody tr th:only-of-type {\n",
              "        vertical-align: middle;\n",
              "    }\n",
              "\n",
              "    .dataframe tbody tr th {\n",
              "        vertical-align: top;\n",
              "    }\n",
              "\n",
              "    .dataframe thead th {\n",
              "        text-align: right;\n",
              "    }\n",
              "</style>\n",
              "<table border=\"1\" class=\"dataframe\">\n",
              "  <thead>\n",
              "    <tr style=\"text-align: right;\">\n",
              "      <th></th>\n",
              "      <th>Timestamp</th>\n",
              "      <th>Age</th>\n",
              "      <th>How often do you consume packed food?</th>\n",
              "      <th>Which oil do you prefer for cooking vegetables?</th>\n",
              "      <th>Do you think that healthy food is not tasty?</th>\n",
              "      <th>Before consuming packed foods, Do you read the ingredient list?</th>\n",
              "      <th>How do you feel about veg atta meggi? Do you think it's healthy?</th>\n",
              "      <th>What would you prefer over sugar (refined and crystal)?</th>\n",
              "      <th>The most preferred drink among the following.</th>\n",
              "      <th>What would you prefer?</th>\n",
              "      <th>Do you think that we often feel hungry in the evening and to fill your tummy you go for packed food.</th>\n",
              "    </tr>\n",
              "  </thead>\n",
              "  <tbody>\n",
              "    <tr>\n",
              "      <th>count</th>\n",
              "      <td>94</td>\n",
              "      <td>171</td>\n",
              "      <td>171</td>\n",
              "      <td>171</td>\n",
              "      <td>171</td>\n",
              "      <td>171</td>\n",
              "      <td>168</td>\n",
              "      <td>171</td>\n",
              "      <td>171</td>\n",
              "      <td>171</td>\n",
              "      <td>171</td>\n",
              "    </tr>\n",
              "    <tr>\n",
              "      <th>unique</th>\n",
              "      <td>94</td>\n",
              "      <td>4</td>\n",
              "      <td>3</td>\n",
              "      <td>4</td>\n",
              "      <td>3</td>\n",
              "      <td>3</td>\n",
              "      <td>3</td>\n",
              "      <td>5</td>\n",
              "      <td>4</td>\n",
              "      <td>3</td>\n",
              "      <td>2</td>\n",
              "    </tr>\n",
              "    <tr>\n",
              "      <th>top</th>\n",
              "      <td>2021/11/14 10:03:20 PM GMT+5:30</td>\n",
              "      <td>above 20</td>\n",
              "      <td>Once in a week</td>\n",
              "      <td>Refined oil</td>\n",
              "      <td>yes</td>\n",
              "      <td>Sometimes</td>\n",
              "      <td>No</td>\n",
              "      <td>jaggery</td>\n",
              "      <td>Soft Drinks (coca-cola, Sprite, etc)</td>\n",
              "      <td>Cooking food by your own</td>\n",
              "      <td>yes</td>\n",
              "    </tr>\n",
              "    <tr>\n",
              "      <th>freq</th>\n",
              "      <td>1</td>\n",
              "      <td>106</td>\n",
              "      <td>87</td>\n",
              "      <td>69</td>\n",
              "      <td>71</td>\n",
              "      <td>79</td>\n",
              "      <td>114</td>\n",
              "      <td>89</td>\n",
              "      <td>60</td>\n",
              "      <td>92</td>\n",
              "      <td>115</td>\n",
              "    </tr>\n",
              "  </tbody>\n",
              "</table>\n",
              "</div>"
            ],
            "text/plain": [
              "                              Timestamp  ... Do you think that we often feel hungry in the evening and to fill your tummy you go for packed food.\n",
              "count                                94  ...                                                171                                                  \n",
              "unique                               94  ...                                                  2                                                  \n",
              "top     2021/11/14 10:03:20 PM GMT+5:30  ...                                                yes                                                  \n",
              "freq                                  1  ...                                                115                                                  \n",
              "\n",
              "[4 rows x 11 columns]"
            ]
          },
          "metadata": {},
          "execution_count": 47
        }
      ]
    },
    {
      "cell_type": "code",
      "metadata": {
        "colab": {
          "base_uri": "https://localhost:8080/"
        },
        "id": "dTPjyqeR0R67",
        "outputId": "819d1f4d-428c-4dca-d6c0-26c3cfa7e56c"
      },
      "source": [
        "M = AuditData['Age'].to_numpy()\n",
        "print(M)\n",
        "\n"
      ],
      "execution_count": null,
      "outputs": [
        {
          "output_type": "stream",
          "name": "stdout",
          "text": [
            "['below 20' 'above 20' 'above 30' 'above 40' 'below 20' 'above 40'\n",
            " 'below 20' 'above 20' 'above 30' 'above 20' 'below 20' 'above 20'\n",
            " 'below 20' 'above 40' 'below 20' 'below 20' 'above 20' 'above 30'\n",
            " 'above 20' 'below 20' 'below 20' 'above 20' 'above 20' 'above 40'\n",
            " 'below 20' 'below 20' 'above 20' 'above 20' 'above 20' 'above 30'\n",
            " 'below 20' 'above 20' 'above 20' 'above 20' 'above 20' 'above 20'\n",
            " 'above 40' 'below 20' 'above 20' 'above 20' 'above 20' 'above 20'\n",
            " 'above 20' 'above 20' 'below 20' 'below 20' 'below 20' 'above 20'\n",
            " 'above 20' 'above 20' 'above 20' 'above 20' 'above 20' 'below 20'\n",
            " 'above 20' 'above 30' 'below 20' 'below 20' 'below 20' 'above 20'\n",
            " 'above 20' 'above 20' 'above 20' 'above 20' 'above 20' 'above 20'\n",
            " 'above 20' 'above 20' 'above 20' 'above 20' 'above 20' 'above 20'\n",
            " 'above 20' 'above 20' 'below 20' 'below 20' 'below 20' 'above 40'\n",
            " 'below 20' 'below 20' 'below 20' 'above 20' 'above 20' 'above 20'\n",
            " 'above 20' 'above 20' 'above 20' 'above 20' 'above 20' 'above 20'\n",
            " 'above 20' 'above 20' 'below 20' 'below 20' 'above 20' 'above 20'\n",
            " 'above 20' 'above 20' 'above 20' 'above 20' 'below 20' 'below 20'\n",
            " 'below 20' 'below 20' 'above 40' 'above 20' 'above 20' 'above 20'\n",
            " 'above 20' 'above 20' 'below 20' 'below 20' 'above 40' 'above 20'\n",
            " 'below 20' 'above 40' 'below 20' 'below 20' 'below 20' 'below 20'\n",
            " 'below 20' 'above 40' 'above 20' 'above 20' 'above 20' 'above 20'\n",
            " 'above 20' 'above 20' 'above 20' 'above 20' 'above 20' 'above 20'\n",
            " 'above 20' 'above 20' 'above 20' 'above 20' 'above 20' 'above 20'\n",
            " 'above 20' 'above 20' 'above 20' 'above 20' 'above 20' 'above 20'\n",
            " 'above 20' 'above 20' 'above 20' 'above 20' 'above 20' 'above 20'\n",
            " 'below 20' 'below 20' 'above 40' 'above 20' 'above 20' 'above 20'\n",
            " 'below 20' 'above 40' 'above 20' 'above 20' 'above 20' 'above 20'\n",
            " 'above 20' 'below 20' 'above 40' 'below 20' 'above 20' 'above 20'\n",
            " 'above 20' 'below 20' 'below 20']\n"
          ]
        }
      ]
    },
    {
      "cell_type": "code",
      "metadata": {
        "colab": {
          "base_uri": "https://localhost:8080/"
        },
        "id": "YVUCaZnuFlEz",
        "outputId": "d79b1303-e7cf-49a1-ae3b-50dbe766cdec"
      },
      "source": [
        "sum_below20 = 0\n",
        "sum_above20 = 0\n",
        "sum_above30 = 0\n",
        "sum_above40 = 0\n",
        "for i in M:\n",
        "  if i == \"above 20\":\n",
        "    sum_above20 = sum_above20 + 1\n",
        "  elif i == \"below 20\":\n",
        "    sum_below20 = sum_below20 + 1\n",
        "  elif i == \"above 30\":\n",
        "    sum_above30 = sum_above30 + 1\n",
        "  else:\n",
        "    sum_above40 = sum_above40 + 1\n",
        "print(sum_below20)\n",
        "print(sum_above20)\n",
        "print(sum_above30)\n",
        "print(sum_above40)"
      ],
      "execution_count": null,
      "outputs": [
        {
          "output_type": "stream",
          "name": "stdout",
          "text": [
            "47\n",
            "106\n",
            "5\n",
            "13\n"
          ]
        }
      ]
    },
    {
      "cell_type": "code",
      "metadata": {
        "id": "pv9z0mR40hQ_",
        "colab": {
          "base_uri": "https://localhost:8080/",
          "height": 350
        },
        "outputId": "62ec4885-07e9-4b13-fca3-dd3bbda13755"
      },
      "source": [
        "# Creating dataset\n",
        "Age_data = {'Below 20':47, 'Above 20':106, 'Above 30':5,\n",
        "        'Above 40':13}\n",
        "Ages = list(Age_data.keys())\n",
        "NOPF = list(Age_data.values())\n",
        "  \n",
        "fig = plt.figure(figsize = (10, 5))\n",
        " \n",
        "# creating the bar plot\n",
        "plt.bar(Ages,NOPF, color ='maroon',\n",
        "        width = 0.4)\n",
        " \n",
        "plt.xlabel(\"Age Distribution\")\n",
        "plt.ylabel(\"No. of people\")\n",
        "plt.title(\"Age Distribution of people who filled the form\")\n",
        "plt.show()"
      ],
      "execution_count": null,
      "outputs": [
        {
          "output_type": "display_data",
          "data": {
            "image/png": "[encoded data removed]",
            "text/plain": [
              "<Figure size 720x360 with 1 Axes>"
            ]
          },
          "metadata": {
            "needs_background": "light"
          }
        }
      ]
    },
    {
      "cell_type": "code",
      "metadata": {
        "id": "OpXwzxEu1mGH",
        "colab": {
          "base_uri": "https://localhost:8080/"
        },
        "outputId": "405f217d-7561-4fd3-cc5f-d74aab94c409"
      },
      "source": [
        "MA = AuditData['How do you feel about veg atta meggi? Do you think it\\'s healthy?'].to_numpy()\n",
        "print(MA)"
      ],
      "execution_count": null,
      "outputs": [
        {
          "output_type": "stream",
          "name": "stdout",
          "text": [
            "['No' 'yes ' 'No' 'No' 'No' 'No' 'Yes' 'No' 'No' 'No' 'No' 'No' 'No' 'No'\n",
            " 'Yes' 'Yes' 'No' 'Yes' 'No' 'No' 'Yes' 'No' 'No' 'No' 'No' 'No' 'No'\n",
            " 'Yes' 'No' 'Yes' 'No' 'No' 'No' 'No' 'No' 'No' 'No' 'No' 'No' 'No' 'No'\n",
            " 'No' 'No' 'Yes' 'No' 'No' 'Yes' 'Yes' 'No' 'No' 'Yes' 'Yes' 'No' 'No'\n",
            " 'No' 'No' 'No' 'Yes' 'Yes' 'No' 'No' 'No' 'Yes' 'No' 'No' 'No' 'No' 'Yes'\n",
            " 'No' 'No' 'Yes' 'No' 'No' 'No' 'No' 'Yes' 'Yes' 'No' 'No' 'Yes' 'Yes'\n",
            " 'Yes' 'No' 'No' 'Yes' 'Yes' 'Yes' 'Yes' 'Yes' 'No' 'No' 'Yes' 'Yes' 'Yes'\n",
            " 'No' 'No' 'No' 'No' 'Yes' 'Yes' 'Yes' 'Yes' 'Yes' 'No' 'No' 'No' 'No'\n",
            " 'No' 'No' 'No' 'No' 'No' 'No' 'No' 'No' 'No' 'No' 'No' 'No' 'No' 'No'\n",
            " 'No' 'Yes' 'Yes' 'Yes' 'Yes' 'No' 'No' 'No' 'No' 'No' 'No' 'No' 'Yes'\n",
            " 'Yes' 'Yes' 'No' 'No' 'No' 'No' 'No' 'No' 'No' 'No' 'Yes' 'Yes' 'Yes' nan\n",
            " nan nan 'Yes' 'Yes' 'Yes' 'No' 'No' 'No' 'No' 'No' 'No' 'Yes' 'No' 'No'\n",
            " 'No' 'No' 'No' 'No' 'Yes' 'Yes' 'Yes' 'No' 'Yes']\n"
          ]
        }
      ]
    },
    {
      "cell_type": "code",
      "metadata": {
        "colab": {
          "base_uri": "https://localhost:8080/"
        },
        "id": "D8VUGBX7JR-o",
        "outputId": "9cca8bb7-a786-415d-b1d4-627388bccb54"
      },
      "source": [
        "sum_no = 0\n",
        "sum_yes = 0\n",
        "for i in MA:\n",
        "  if i == \"Yes\":\n",
        "    sum_yes = sum_yes + 1\n",
        "  else:\n",
        "    sum_no = sum_no + 1\n",
        "print(sum_yes)\n",
        "print(sum_no)"
      ],
      "execution_count": null,
      "outputs": [
        {
          "output_type": "stream",
          "name": "stdout",
          "text": [
            "53\n",
            "118\n"
          ]
        }
      ]
    },
    {
      "cell_type": "code",
      "metadata": {
        "colab": {
          "base_uri": "https://localhost:8080/",
          "height": 411
        },
        "id": "DnW-MxOvJwBB",
        "outputId": "21a2eecf-52ea-4e06-e75d-c7ab3cafe83a"
      },
      "source": [
        "TF = ['Yes', 'NO']\n",
        " \n",
        "Response = [53,118]\n",
        "\n",
        "# Creating plot\n",
        "fig = plt.figure(figsize =(10, 7))\n",
        "plt.pie(Response, labels = TF )\n",
        " \n",
        "# show plot\n",
        "plt.show()"
      ],
      "execution_count": null,
      "outputs": [
        {
          "output_type": "display_data",
          "data": {
            "image/png": "[encoded data removed]",
            "text/plain": [
              "<Figure size 720x504 with 1 Axes>"
            ]
          },
          "metadata": {}
        }
      ]
    },
    {
      "cell_type": "code",
      "metadata": {
        "colab": {
          "base_uri": "https://localhost:8080/"
        },
        "id": "ZElrqNdnLfrU",
        "outputId": "d199d003-c395-4eae-feb5-93d62bb1b162"
      },
      "source": [
        "SK = AuditData['Do you think that we often feel hungry in the evening and to fill your tummy you go for packed food.'].to_numpy()\n",
        "print(SK)"
      ],
      "execution_count": null,
      "outputs": [
        {
          "output_type": "stream",
          "name": "stdout",
          "text": [
            "['yes' 'No' 'yes' 'yes' 'yes' 'No' 'yes' 'yes' 'yes' 'yes' 'No' 'yes'\n",
            " 'yes' 'No' 'No' 'yes' 'yes' 'yes' 'yes' 'yes' 'yes' 'No' 'yes' 'yes'\n",
            " 'yes' 'yes' 'yes' 'No' 'yes' 'yes' 'yes' 'yes' 'yes' 'yes' 'No' 'No'\n",
            " 'yes' 'yes' 'yes' 'No' 'yes' 'yes' 'yes' 'No' 'yes' 'yes' 'yes' 'yes'\n",
            " 'No' 'yes' 'yes' 'No' 'No' 'yes' 'yes' 'yes' 'yes' 'yes' 'yes' 'No' 'yes'\n",
            " 'yes' 'yes' 'yes' 'yes' 'No' 'yes' 'yes' 'yes' 'yes' 'yes' 'yes' 'No'\n",
            " 'No' 'No' 'No' 'yes' 'yes' 'yes' 'yes' 'No' 'yes' 'yes' 'yes' 'yes' 'yes'\n",
            " 'yes' 'No' 'No' 'yes' 'yes' 'yes' 'No' 'yes' 'No' 'No' 'No' 'No' 'No'\n",
            " 'No' 'yes' 'yes' 'yes' 'yes' 'yes' 'yes' 'yes' 'yes' 'yes' 'yes' 'yes'\n",
            " 'yes' 'yes' 'yes' 'yes' 'No' 'No' 'No' 'No' 'No' 'No' 'No' 'No' 'yes'\n",
            " 'yes' 'yes' 'yes' 'yes' 'No' 'No' 'No' 'No' 'No' 'yes' 'No' 'No' 'yes'\n",
            " 'yes' 'yes' 'yes' 'No' 'yes' 'yes' 'yes' 'yes' 'yes' 'yes' 'yes' 'yes'\n",
            " 'yes' 'yes' 'No' 'No' 'No' 'yes' 'No' 'No' 'No' 'No' 'No' 'yes' 'yes'\n",
            " 'yes' 'yes' 'yes' 'yes' 'yes' 'yes' 'No' 'No' 'yes']\n"
          ]
        }
      ]
    },
    {
      "cell_type": "code",
      "metadata": {
        "colab": {
          "base_uri": "https://localhost:8080/"
        },
        "id": "6fcPt97YLtk0",
        "outputId": "4e12f8bb-1373-4cd7-edc0-67cf082b29af"
      },
      "source": [
        "sum_no = 0\n",
        "sum_yes = 0\n",
        "for i in SK:\n",
        "  if i == \"yes\":\n",
        "    sum_yes = sum_yes + 1\n",
        "  else:\n",
        "    sum_no = sum_no + 1\n",
        "print(sum_yes)\n",
        "print(sum_no)"
      ],
      "execution_count": null,
      "outputs": [
        {
          "output_type": "stream",
          "name": "stdout",
          "text": [
            "115\n",
            "56\n"
          ]
        }
      ]
    },
    {
      "cell_type": "code",
      "metadata": {
        "colab": {
          "base_uri": "https://localhost:8080/",
          "height": 411
        },
        "id": "wai7R9vrLtq1",
        "outputId": "0c002906-f2bd-4f07-f037-90c33847dcc9"
      },
      "source": [
        "TTFF = ['Yes', 'NO']\n",
        " \n",
        "Response = [115,56]\n",
        "color = ['red' ,'blue'] \n",
        " \n",
        "# Creating plot\n",
        "fig = plt.figure(figsize =(10, 7))\n",
        "plt.pie(Response, labels = TTFF ,colors = color)\n",
        " \n",
        "# show plot\n",
        "plt.show()"
      ],
      "execution_count": null,
      "outputs": [
        {
          "output_type": "display_data",
          "data": {
            "image/png": "[encoded data removed]",
            "text/plain": [
              "<Figure size 720x504 with 1 Axes>"
            ]
          },
          "metadata": {}
        }
      ]
    },
    {
      "cell_type": "code",
      "metadata": {
        "colab": {
          "base_uri": "https://localhost:8080/"
        },
        "id": "FqfA2K4jM-qs",
        "outputId": "dc0a8758-28d8-4409-c1c6-8650b9e4b1f9"
      },
      "source": [
        "KS = AuditData['The most preferred drink among the following.'].to_numpy()\n",
        "print(KS)"
      ],
      "execution_count": null,
      "outputs": [
        {
          "output_type": "stream",
          "name": "stdout",
          "text": [
            "['Home-made juices' 'Soft Drinks (coca-cola, Sprite, etc)' 'Coconut Water'\n",
            " 'Lemon-Water' 'Soft Drinks (coca-cola, Sprite, etc)' 'Lemon-Water'\n",
            " 'Coconut Water' 'Soft Drinks (coca-cola, Sprite, etc)'\n",
            " 'Soft Drinks (coca-cola, Sprite, etc)'\n",
            " 'Soft Drinks (coca-cola, Sprite, etc)' 'Coconut Water' 'Coconut Water'\n",
            " 'Soft Drinks (coca-cola, Sprite, etc)' 'Home-made juices' 'Lemon-Water'\n",
            " 'Soft Drinks (coca-cola, Sprite, etc)'\n",
            " 'Soft Drinks (coca-cola, Sprite, etc)'\n",
            " 'Soft Drinks (coca-cola, Sprite, etc)' 'Lemon-Water' 'Lemon-Water'\n",
            " 'Home-made juices' 'Coconut Water' 'Home-made juices' 'Home-made juices'\n",
            " 'Home-made juices' 'Coconut Water' 'Home-made juices'\n",
            " 'Soft Drinks (coca-cola, Sprite, etc)' 'Home-made juices' 'Lemon-Water'\n",
            " 'Home-made juices' 'Coconut Water' 'Lemon-Water' 'Home-made juices'\n",
            " 'Lemon-Water' 'Lemon-Water' 'Coconut Water'\n",
            " 'Soft Drinks (coca-cola, Sprite, etc)' 'Coconut Water' 'Home-made juices'\n",
            " 'Lemon-Water' 'Lemon-Water' 'Soft Drinks (coca-cola, Sprite, etc)'\n",
            " 'Home-made juices' 'Home-made juices' 'Coconut Water' 'Lemon-Water'\n",
            " 'Soft Drinks (coca-cola, Sprite, etc)' 'Home-made juices' 'Coconut Water'\n",
            " 'Lemon-Water' 'Home-made juices' 'Lemon-Water' 'Coconut Water'\n",
            " 'Soft Drinks (coca-cola, Sprite, etc)' 'Home-made juices' 'Coconut Water'\n",
            " 'Lemon-Water' 'Coconut Water' 'Soft Drinks (coca-cola, Sprite, etc)'\n",
            " 'Home-made juices' 'Home-made juices'\n",
            " 'Soft Drinks (coca-cola, Sprite, etc)' 'Home-made juices'\n",
            " 'Soft Drinks (coca-cola, Sprite, etc)' 'Home-made juices'\n",
            " 'Soft Drinks (coca-cola, Sprite, etc)' 'Home-made juices'\n",
            " 'Soft Drinks (coca-cola, Sprite, etc)'\n",
            " 'Soft Drinks (coca-cola, Sprite, etc)' 'Home-made juices' 'Lemon-Water'\n",
            " 'Soft Drinks (coca-cola, Sprite, etc)' 'Lemon-Water' 'Lemon-Water'\n",
            " 'Coconut Water' 'Soft Drinks (coca-cola, Sprite, etc)' 'Lemon-Water'\n",
            " 'Home-made juices' 'Lemon-Water' 'Coconut Water' 'Lemon-Water'\n",
            " 'Soft Drinks (coca-cola, Sprite, etc)' 'Home-made juices' 'Coconut Water'\n",
            " 'Home-made juices' 'Soft Drinks (coca-cola, Sprite, etc)'\n",
            " 'Soft Drinks (coca-cola, Sprite, etc)'\n",
            " 'Soft Drinks (coca-cola, Sprite, etc)'\n",
            " 'Soft Drinks (coca-cola, Sprite, etc)'\n",
            " 'Soft Drinks (coca-cola, Sprite, etc)'\n",
            " 'Soft Drinks (coca-cola, Sprite, etc)' 'Home-made juices' 'Coconut Water'\n",
            " 'Lemon-Water' 'Lemon-Water' 'Lemon-Water' 'Home-made juices'\n",
            " 'Soft Drinks (coca-cola, Sprite, etc)'\n",
            " 'Soft Drinks (coca-cola, Sprite, etc)'\n",
            " 'Soft Drinks (coca-cola, Sprite, etc)'\n",
            " 'Soft Drinks (coca-cola, Sprite, etc)'\n",
            " 'Soft Drinks (coca-cola, Sprite, etc)'\n",
            " 'Soft Drinks (coca-cola, Sprite, etc)'\n",
            " 'Soft Drinks (coca-cola, Sprite, etc)'\n",
            " 'Soft Drinks (coca-cola, Sprite, etc)'\n",
            " 'Soft Drinks (coca-cola, Sprite, etc)'\n",
            " 'Soft Drinks (coca-cola, Sprite, etc)'\n",
            " 'Soft Drinks (coca-cola, Sprite, etc)'\n",
            " 'Soft Drinks (coca-cola, Sprite, etc)' 'Coconut Water' 'Home-made juices'\n",
            " 'Home-made juices' 'Home-made juices' 'Coconut Water' 'Lemon-Water'\n",
            " 'Lemon-Water' 'Lemon-Water' 'Lemon-Water' 'Lemon-Water' 'Lemon-Water'\n",
            " 'Lemon-Water' 'Home-made juices' 'Soft Drinks (coca-cola, Sprite, etc)'\n",
            " 'Soft Drinks (coca-cola, Sprite, etc)'\n",
            " 'Soft Drinks (coca-cola, Sprite, etc)'\n",
            " 'Soft Drinks (coca-cola, Sprite, etc)'\n",
            " 'Soft Drinks (coca-cola, Sprite, etc)'\n",
            " 'Soft Drinks (coca-cola, Sprite, etc)'\n",
            " 'Soft Drinks (coca-cola, Sprite, etc)' 'Coconut Water' 'Coconut Water'\n",
            " 'Coconut Water' 'Coconut Water' 'Lemon-Water' 'Lemon-Water' 'Lemon-Water'\n",
            " 'Lemon-Water' 'Lemon-Water' 'Lemon-Water' 'Lemon-Water' 'Coconut Water'\n",
            " 'Home-made juices' 'Home-made juices' 'Coconut Water' 'Coconut Water'\n",
            " 'Soft Drinks (coca-cola, Sprite, etc)'\n",
            " 'Soft Drinks (coca-cola, Sprite, etc)'\n",
            " 'Soft Drinks (coca-cola, Sprite, etc)'\n",
            " 'Soft Drinks (coca-cola, Sprite, etc)'\n",
            " 'Soft Drinks (coca-cola, Sprite, etc)'\n",
            " 'Soft Drinks (coca-cola, Sprite, etc)'\n",
            " 'Soft Drinks (coca-cola, Sprite, etc)' 'Coconut Water' 'Home-made juices'\n",
            " 'Home-made juices' 'Home-made juices' 'Lemon-Water' 'Lemon-Water'\n",
            " 'Lemon-Water' 'Coconut Water' 'Home-made juices' 'Coconut Water'\n",
            " 'Soft Drinks (coca-cola, Sprite, etc)'\n",
            " 'Soft Drinks (coca-cola, Sprite, etc)'\n",
            " 'Soft Drinks (coca-cola, Sprite, etc)'\n",
            " 'Soft Drinks (coca-cola, Sprite, etc)'\n",
            " 'Soft Drinks (coca-cola, Sprite, etc)' 'Coconut Water' 'Home-made juices'\n",
            " 'Home-made juices']\n"
          ]
        }
      ]
    },
    {
      "cell_type": "code",
      "metadata": {
        "colab": {
          "base_uri": "https://localhost:8080/"
        },
        "id": "3b3ny6hrOCls",
        "outputId": "87460d25-03ed-4e67-ef64-ec77c0003768"
      },
      "source": [
        "sum_SD = 0\n",
        "sum_CW = 0\n",
        "sum_LW = 0\n",
        "sum_HM = 0\n",
        "for i in KS:\n",
        "  if i == \"Soft Drinks (coca-cola, Sprite, etc)\":\n",
        "    sum_SD = sum_SD + 1\n",
        "  elif i == \"Coconut Water\":\n",
        "    sum_CW = sum_CW + 1\n",
        "  elif i == \"Lemon-Water\":\n",
        "    sum_LW = sum_LW + 1\n",
        "  else:\n",
        "    sum_HM = sum_HM + 1\n",
        "print(sum_SD)\n",
        "print(sum_CW)\n",
        "print(sum_LW)\n",
        "print(sum_HM)"
      ],
      "execution_count": null,
      "outputs": [
        {
          "output_type": "stream",
          "name": "stdout",
          "text": [
            "60\n",
            "31\n",
            "41\n",
            "39\n"
          ]
        }
      ]
    },
    {
      "cell_type": "code",
      "metadata": {
        "colab": {
          "base_uri": "https://localhost:8080/",
          "height": 350
        },
        "id": "CwARI3wDOFE4",
        "outputId": "68f29c13-584e-4fa1-8bb2-4ab610ff3c46"
      },
      "source": [
        "# Creating dataset\n",
        "Jucies_data = {'Soft Drinks':60, 'Coconut Water':31, 'Lemon Water':41,\n",
        "        'Home Made Jucies':39}\n",
        "Drinks = list(Jucies_data.keys())\n",
        "Preferred = list(Jucies_data.values())\n",
        "  \n",
        "fig = plt.figure(figsize = (10, 5))\n",
        " \n",
        "# creating the bar plot\n",
        "plt.bar(Drinks, Preferred, color ='green',\n",
        "        width = 0.4)\n",
        " \n",
        "plt.xlabel(\"Drinks\")\n",
        "plt.ylabel(\"No. of people\")\n",
        "plt.title(\"Preferred Drinks\")\n",
        "plt.show()"
      ],
      "execution_count": null,
      "outputs": [
        {
          "output_type": "display_data",
          "data": {
            "image/png": "[encoded data removed]",
            "text/plain": [
              "<Figure size 720x360 with 1 Axes>"
            ]
          },
          "metadata": {
            "needs_background": "light"
          }
        }
      ]
    },
    {
      "cell_type": "code",
      "metadata": {
        "colab": {
          "base_uri": "https://localhost:8080/"
        },
        "id": "g50C-n_SRFyb",
        "outputId": "5e97a222-c83f-4167-a844-708ba271bcf8"
      },
      "source": [
        "HB = AuditData['Which oil do you prefer for cooking vegetables?'].to_numpy()\n",
        "print(HB)"
      ],
      "execution_count": null,
      "outputs": [
        {
          "output_type": "stream",
          "name": "stdout",
          "text": [
            "['Refined oil' 'Refined oil' 'Refined oil' 'Refined oil' 'Refined oil'\n",
            " 'Refined oil' 'Refined oil' 'Mustard oil' 'Refined oil' 'Refined oil'\n",
            " 'Mustard oil' 'Mustard oil' 'Refined oil' 'Mustard oil' 'Mustard oil'\n",
            " 'Mustard oil' 'Mustard oil' 'Refined oil' 'Refined oil' 'Mustard oil'\n",
            " 'Olive Oil' 'Sesame Oil' 'Refined oil' 'Mustard oil' 'Mustard oil'\n",
            " 'Refined oil' 'Refined oil' 'Olive Oil' 'Mustard oil' 'Mustard oil'\n",
            " 'Refined oil' 'Refined oil' 'Refined oil' 'Refined oil' 'Refined oil'\n",
            " 'Refined oil' 'Refined oil' 'Refined oil' 'Mustard oil' 'Mustard oil'\n",
            " 'Mustard oil' 'Refined oil' 'Refined oil' 'Mustard oil' 'Mustard oil'\n",
            " 'Refined oil' 'Mustard oil' 'Mustard oil' 'Mustard oil' 'Mustard oil'\n",
            " 'Refined oil' 'Refined oil' 'Refined oil' 'Mustard oil' 'Refined oil'\n",
            " 'Refined oil' 'Olive Oil' 'Mustard oil' 'Refined oil' 'Refined oil'\n",
            " 'Refined oil' 'Mustard oil' 'Olive Oil' 'Sesame Oil' 'Refined oil'\n",
            " 'Mustard oil' 'Mustard oil' 'Refined oil' 'Refined oil' 'Olive Oil'\n",
            " 'Mustard oil' 'Mustard oil' 'Mustard oil' 'Refined oil' 'Olive Oil'\n",
            " 'Mustard oil' 'Mustard oil' 'Olive Oil' 'Refined oil' 'Mustard oil'\n",
            " 'Mustard oil' 'Mustard oil' 'Mustard oil' 'Mustard oil' 'Refined oil'\n",
            " 'Refined oil' 'Mustard oil' 'Mustard oil' 'Refined oil' 'Mustard oil'\n",
            " 'Refined oil' 'Mustard oil' 'Olive Oil' 'Sesame Oil' 'Refined oil'\n",
            " 'Refined oil' 'Refined oil' 'Refined oil' 'Refined oil' 'Refined oil'\n",
            " 'Refined oil' 'Mustard oil' 'Mustard oil' 'Mustard oil' 'Mustard oil'\n",
            " 'Mustard oil' 'Mustard oil' 'Refined oil' 'Refined oil' 'Refined oil'\n",
            " 'Refined oil' 'Refined oil' 'Sesame Oil' 'Mustard oil' 'Mustard oil'\n",
            " 'Mustard oil' 'Mustard oil' 'Mustard oil' 'Mustard oil' 'Mustard oil'\n",
            " 'Sesame Oil' 'Sesame Oil' 'Mustard oil' 'Olive Oil' 'Olive Oil'\n",
            " 'Olive Oil' 'Olive Oil' 'Mustard oil' 'Olive Oil' 'Olive Oil' 'Olive Oil'\n",
            " 'Mustard oil' 'Refined oil' 'Refined oil' 'Refined oil' 'Refined oil'\n",
            " 'Refined oil' 'Refined oil' 'Sesame Oil' 'Olive Oil' 'Olive Oil'\n",
            " 'Olive Oil' 'Sesame Oil' 'Mustard oil' 'Mustard oil' 'Mustard oil'\n",
            " 'Mustard oil' 'Mustard oil' 'Mustard oil' 'Sesame Oil' 'Sesame Oil'\n",
            " 'Sesame Oil' 'Refined oil' 'Refined oil' 'Refined oil' 'Refined oil'\n",
            " 'Refined oil' 'Refined oil' 'Refined oil' 'Refined oil' 'Mustard oil'\n",
            " 'Mustard oil' 'Mustard oil' 'Sesame Oil' 'Sesame Oil' 'Sesame Oil'\n",
            " 'Sesame Oil' 'Sesame Oil' 'Mustard oil' 'Mustard oil' 'Mustard oil']\n"
          ]
        }
      ]
    },
    {
      "cell_type": "code",
      "metadata": {
        "colab": {
          "base_uri": "https://localhost:8080/"
        },
        "id": "vshx9DjuWExx",
        "outputId": "e51bf175-d807-4ad4-eae5-b4ea18ee4e58"
      },
      "source": [
        "sum_RO = 0\n",
        "sum_MO = 0\n",
        "sum_SO = 0\n",
        "sum_OO = 0\n",
        "for i in HB:\n",
        "  if i == \"Refined oil\":\n",
        "    sum_RO = sum_RO + 1\n",
        "  elif i == \"Mustard oil\":\n",
        "    sum_MO = sum_MO + 1\n",
        "  elif i == \"Sesame Oil\":\n",
        "    sum_SO = sum_SO + 1\n",
        "  else:\n",
        "    sum_OO = sum_OO + 1\n",
        "print(sum_RO)\n",
        "print(sum_MO)\n",
        "print(sum_SO)\n",
        "print(sum_OO)"
      ],
      "execution_count": null,
      "outputs": [
        {
          "output_type": "stream",
          "name": "stdout",
          "text": [
            "69\n",
            "68\n",
            "16\n",
            "18\n"
          ]
        }
      ]
    },
    {
      "cell_type": "code",
      "metadata": {
        "colab": {
          "base_uri": "https://localhost:8080/",
          "height": 253
        },
        "id": "DfkzONaEWIf8",
        "outputId": "a1fca2e6-9124-4b8a-bca9-3a598d8e4b02"
      },
      "source": [
        "oils = ['Refined Oil', 'Mustard Oil', 'Olive Oil' ,'Sesame Oil']\n",
        " \n",
        "Responses = [69,68,16,18]\n",
        "color = ['yellow' ,'green','blue','pink'] \n",
        "explode = (0.2, 0.1, 0.3, 0.4)\n",
        "fig1, ax1 = plt.subplots()\n",
        "ax1.pie(Responses, explode=explode, labels=oils)\n",
        "plt.show()"
      ],
      "execution_count": null,
      "outputs": [
        {
          "output_type": "display_data",
          "data": {
            "image/png": "[encoded data removed]",
            "text/plain": [
              "<Figure size 432x288 with 1 Axes>"
            ]
          },
          "metadata": {}
        }
      ]
    },
    {
      "cell_type": "code",
      "metadata": {
        "colab": {
          "base_uri": "https://localhost:8080/"
        },
        "id": "WTFzxm1HYqPe",
        "outputId": "50692929-e134-42dd-d740-bb4995928a11"
      },
      "source": [
        "AN = AuditData['How often do you consume packed food?'].to_numpy()\n",
        "print(AN)"
      ],
      "execution_count": null,
      "outputs": [
        {
          "output_type": "stream",
          "name": "stdout",
          "text": [
            "['Once in a week' 'Once in a week' 'Once in a month' 'Once in a week'\n",
            " 'Once in a week' 'Once in a week' 'Almost Daily' 'Once in a week'\n",
            " 'Almost Daily' 'Almost Daily' 'Once in a week' 'Once in a week'\n",
            " 'Once in a week' 'Almost Daily' 'Once in a month' 'Almost Daily'\n",
            " 'Once in a week' 'Almost Daily' 'Once in a month' 'Once in a month'\n",
            " 'Once in a week' 'Once in a month' 'Once in a week' 'Almost Daily'\n",
            " 'Once in a week' 'Once in a month' 'Once in a week' 'Almost Daily'\n",
            " 'Almost Daily' 'Once in a week' 'Once in a month' 'Almost Daily'\n",
            " 'Once in a week' 'Once in a month' 'Almost Daily' 'Almost Daily'\n",
            " 'Once in a week' 'Once in a week' 'Once in a month' 'Once in a month'\n",
            " 'Once in a month' 'Once in a week' 'Once in a week' 'Once in a week'\n",
            " 'Almost Daily' 'Once in a week' 'Once in a week' 'Once in a week'\n",
            " 'Once in a month' 'Once in a week' 'Once in a month' 'Once in a month'\n",
            " 'Once in a month' 'Once in a month' 'Once in a month' 'Almost Daily'\n",
            " 'Once in a week' 'Once in a month' 'Once in a week' 'Once in a week'\n",
            " 'Once in a month' 'Once in a week' 'Almost Daily' 'Once in a month'\n",
            " 'Once in a week' 'Once in a week' 'Once in a week' 'Once in a month'\n",
            " 'Once in a week' 'Almost Daily' 'Once in a week' 'Once in a month'\n",
            " 'Almost Daily' 'Once in a week' 'Once in a month' 'Once in a month'\n",
            " 'Almost Daily' 'Once in a week' 'Once in a month' 'Once in a week'\n",
            " 'Once in a month' 'Once in a week' 'Once in a month' 'Once in a week'\n",
            " 'Almost Daily' 'Once in a week' 'Once in a week' 'Once in a week'\n",
            " 'Once in a month' 'Almost Daily' 'Once in a week' 'Once in a week'\n",
            " 'Almost Daily' 'Once in a month' 'Almost Daily' 'Once in a week'\n",
            " 'Once in a month' 'Once in a week' 'Once in a month' 'Once in a week'\n",
            " 'Once in a month' 'Once in a week' 'Almost Daily' 'Once in a week'\n",
            " 'Once in a week' 'Once in a week' 'Once in a month' 'Once in a month'\n",
            " 'Once in a month' 'Once in a month' 'Once in a week' 'Once in a week'\n",
            " 'Once in a week' 'Once in a week' 'Once in a week' 'Once in a week'\n",
            " 'Once in a week' 'Once in a week' 'Once in a week' 'Once in a week'\n",
            " 'Once in a week' 'Once in a week' 'Once in a week' 'Once in a week'\n",
            " 'Once in a week' 'Once in a week' 'Almost Daily' 'Almost Daily'\n",
            " 'Almost Daily' 'Once in a month' 'Once in a month' 'Once in a month'\n",
            " 'Once in a month' 'Once in a month' 'Once in a month' 'Once in a month'\n",
            " 'Almost Daily' 'Once in a week' 'Once in a week' 'Once in a week'\n",
            " 'Once in a week' 'Once in a week' 'Once in a week' 'Once in a week'\n",
            " 'Once in a week' 'Once in a week' 'Once in a week' 'Once in a week'\n",
            " 'Once in a week' 'Once in a week' 'Once in a week' 'Once in a week'\n",
            " 'Once in a week' 'Once in a week' 'Almost Daily' 'Almost Daily'\n",
            " 'Almost Daily' 'Almost Daily' 'Almost Daily' 'Almost Daily'\n",
            " 'Almost Daily' 'Almost Daily' 'Almost Daily' 'Almost Daily'\n",
            " 'Almost Daily' 'Almost Daily' 'Once in a week' 'Once in a week'\n",
            " 'Once in a week' 'Almost Daily' 'Almost Daily']\n"
          ]
        }
      ]
    },
    {
      "cell_type": "code",
      "metadata": {
        "colab": {
          "base_uri": "https://localhost:8080/"
        },
        "id": "r4eFPqdDYvap",
        "outputId": "745d8146-946a-4825-e3a5-ba027ea8bbb2"
      },
      "source": [
        "sum_OW = 0\n",
        "sum_AD = 0\n",
        "sum_OM = 0\n",
        "for i in AN:\n",
        "  if i == \"Once in a week\":\n",
        "    sum_OW = sum_OW + 1\n",
        "  elif i == \"Almost Daily\":\n",
        "    sum_AD = sum_AD + 1\n",
        "  elif i == \"Once in a month\":\n",
        "    sum_OM = sum_OM + 1\n",
        "print(sum_OW)\n",
        "print(sum_AD)\n",
        "print(sum_OM)"
      ],
      "execution_count": null,
      "outputs": [
        {
          "output_type": "stream",
          "name": "stdout",
          "text": [
            "87\n",
            "41\n",
            "43\n"
          ]
        }
      ]
    },
    {
      "cell_type": "code",
      "metadata": {
        "colab": {
          "base_uri": "https://localhost:8080/",
          "height": 350
        },
        "id": "mxIs7bn_ai_n",
        "outputId": "883c25c6-15d6-461b-dcdc-ecc1a889f57f"
      },
      "source": [
        "# Creating dataset\n",
        "C_data = {'Once in a week':87, 'Almost Daily':41, 'Once a month':43}\n",
        "Frequency = list(C_data.keys())\n",
        "consumption = list(C_data.values())\n",
        "\n",
        "fig = plt.figure(figsize = (10, 5))\n",
        " \n",
        "# creating the bar plot\n",
        "plt.bar(Frequency, consumption,width = 0.4)\n",
        " \n",
        "plt.title(\"Consumption Frequency\")\n",
        "plt.ylabel('Consumption')\n",
        "plt.xlabel('Frequency')\n",
        "plt.show()"
      ],
      "execution_count": null,
      "outputs": [
        {
          "output_type": "display_data",
          "data": {
            "image/png": "[encoded data removed]",
            "text/plain": [
              "<Figure size 720x360 with 1 Axes>"
            ]
          },
          "metadata": {
            "needs_background": "light"
          }
        }
      ]
    },
    {
      "cell_type": "code",
      "metadata": {
        "colab": {
          "base_uri": "https://localhost:8080/"
        },
        "id": "k4RpGa6MfQfI",
        "outputId": "1d766534-2621-46f9-8eed-4301c4a57907"
      },
      "source": [
        "HF = AuditData['What would you prefer over sugar (refined and crystal)?'].to_numpy()\n",
        "print(HF)"
      ],
      "execution_count": null,
      "outputs": [
        {
          "output_type": "stream",
          "name": "stdout",
          "text": [
            "['jaggery' 'Thread Mishri' 'jaggery' 'jaggery'\n",
            " 'I can completely quit sugar' 'I can completely quit sugar' 'jaggery'\n",
            " 'Sugar lite' 'Thread Mishri' 'jaggery' 'jaggery' 'jaggery' 'jaggery'\n",
            " 'jaggery' 'jaggery' 'jaggery' 'jaggery' 'Sugar lite' 'jaggery'\n",
            " 'I can completely quit sugar' 'jaggery' 'jaggery'\n",
            " 'I can completely quit sugar' 'jaggery' 'jaggery' 'Sugar lite' 'jaggery'\n",
            " 'jaggery' 'jaggery' 'jaggery' 'jaggery' 'jaggery' 'jaggery' 'Date Sugar'\n",
            " 'jaggery' 'Sugar lite' 'jaggery' 'jaggery' 'I can completely quit sugar'\n",
            " 'Sugar lite' 'jaggery' 'Sugar lite' 'jaggery' 'jaggery'\n",
            " 'I can completely quit sugar' 'jaggery' 'jaggery' 'jaggery' 'jaggery'\n",
            " 'I can completely quit sugar' 'Sugar lite' 'Sugar lite' 'Sugar lite'\n",
            " 'Thread Mishri' 'jaggery' 'Sugar lite' 'jaggery' 'jaggery' 'Sugar lite'\n",
            " 'jaggery' 'jaggery' 'jaggery' 'Date Sugar' 'Sugar lite' 'Sugar lite'\n",
            " 'jaggery' 'Thread Mishri' 'Sugar lite' 'jaggery' 'jaggery' 'jaggery'\n",
            " 'I can completely quit sugar' 'Sugar lite' 'jaggery'\n",
            " 'I can completely quit sugar' 'jaggery' 'Sugar lite' 'Sugar lite'\n",
            " 'Thread Mishri' 'jaggery' 'Sugar lite' 'jaggery'\n",
            " 'I can completely quit sugar' 'Thread Mishri' 'Sugar lite'\n",
            " 'I can completely quit sugar' 'Sugar lite' 'Sugar lite' 'Sugar lite'\n",
            " 'jaggery' 'Sugar lite' 'Sugar lite' 'jaggery' 'Sugar lite'\n",
            " 'Thread Mishri' 'Sugar lite' 'Sugar lite' 'jaggery' 'jaggery' 'jaggery'\n",
            " 'jaggery' 'jaggery' 'jaggery' 'jaggery' 'jaggery' 'jaggery' 'jaggery'\n",
            " 'jaggery' 'jaggery' 'jaggery' 'jaggery' 'jaggery' 'jaggery' 'Sugar lite'\n",
            " 'Sugar lite' 'I can completely quit sugar' 'I can completely quit sugar'\n",
            " 'I can completely quit sugar' 'Date Sugar' 'Date Sugar' 'Sugar lite'\n",
            " 'Date Sugar' 'jaggery' 'jaggery' 'jaggery' 'jaggery' 'jaggery' 'jaggery'\n",
            " 'jaggery' 'jaggery' 'jaggery' 'jaggery' 'jaggery' 'jaggery' 'jaggery'\n",
            " 'jaggery' 'Sugar lite' 'Sugar lite' 'I can completely quit sugar'\n",
            " 'I can completely quit sugar' 'I can completely quit sugar'\n",
            " 'I can completely quit sugar' 'Date Sugar' 'Thread Mishri'\n",
            " 'Thread Mishri' 'Date Sugar' 'Sugar lite' 'Sugar lite' 'Date Sugar'\n",
            " 'Date Sugar' 'Thread Mishri' 'Thread Mishri' 'Thread Mishri'\n",
            " 'Thread Mishri' 'Date Sugar' 'Date Sugar' 'I can completely quit sugar'\n",
            " 'I can completely quit sugar' 'I can completely quit sugar'\n",
            " 'I can completely quit sugar' 'Thread Mishri' 'jaggery' 'jaggery'\n",
            " 'jaggery' 'jaggery' 'jaggery' 'jaggery' 'jaggery' 'jaggery' 'jaggery'\n",
            " 'I can completely quit sugar']\n"
          ]
        }
      ]
    },
    {
      "cell_type": "code",
      "metadata": {
        "colab": {
          "base_uri": "https://localhost:8080/"
        },
        "id": "_f8PE1iCfXKc",
        "outputId": "e10648a3-83a3-439c-ecde-2fc1429962d5"
      },
      "source": [
        "sum_JG = 0\n",
        "sum_TM = 0\n",
        "sum_QS = 0\n",
        "sum_DS = 0\n",
        "sum_SL = 0\n",
        "for i in HF:\n",
        "  if i == \"jaggery\":\n",
        "    sum_JG = sum_JG + 1\n",
        "  elif i == \"Thread Mishri\":\n",
        "    sum_TM = sum_TM + 1\n",
        "  elif i == \"I can completely quit sugar\":\n",
        "    sum_QS = sum_QS + 1\n",
        "  elif i == \"Sugar lite\":\n",
        "    sum_SL = sum_SL + 1\n",
        "  else:\n",
        "    sum_DS = sum_DS + 1\n",
        "print(sum_JG)\n",
        "print(sum_TM)\n",
        "print(sum_QS)\n",
        "print(sum_DS)\n",
        "print(sum_SL)"
      ],
      "execution_count": null,
      "outputs": [
        {
          "output_type": "stream",
          "name": "stdout",
          "text": [
            "89\n",
            "14\n",
            "23\n",
            "11\n",
            "34\n"
          ]
        }
      ]
    },
    {
      "cell_type": "code",
      "metadata": {
        "colab": {
          "base_uri": "https://localhost:8080/",
          "height": 248
        },
        "id": "0NeK9rzGfiTm",
        "outputId": "2e2a8c6d-c147-4409-f98d-07e341a1c64b"
      },
      "source": [
        "sugarr = ['jaggery', 'Thread Mishri', 'Sugar lite','I can completely quit sugar','Date Sugar']\n",
        " \n",
        "Responses_1 = [89,14,34,23,11]\n",
        "color = ['yellow' ,'green','blue','black','pink'] \n",
        "explode = (0, 0, 0, 0.4, 0)\n",
        "fig1, ax1 = plt.subplots()\n",
        "ax1.pie(Responses_1, explode=explode, labels=sugarr)\n",
        "plt.show()"
      ],
      "execution_count": null,
      "outputs": [
        {
          "output_type": "display_data",
          "data": {
            "image/png": "[encoded data removed]",
            "text/plain": [
              "<Figure size 432x288 with 1 Axes>"
            ]
          },
          "metadata": {}
        }
      ]
    },
    {
      "cell_type": "code",
      "metadata": {
        "colab": {
          "base_uri": "https://localhost:8080/",
          "height": 254
        },
        "id": "qdXKy6kHlY6L",
        "outputId": "ff31f5cf-b6ba-4b16-d475-beaa84763550"
      },
      "source": [
        "labels = 'jaggery', 'Thread Mishri', 'Sugar lite','I can completely quit sugar','Date Sugar'\n",
        "sizes = [52,11.9,19.8,13.4,2.9]\n",
        " \n",
        "colors = ('yellow' ,'green','blue','red','pink') \n",
        "fig1, ax1 = plt.subplots()\n",
        "explode = (0, 0, 0, 0.4,0) \n",
        "ax1.pie(sizes, colors = colors, explode=explode, labels=labels,autopct='%1.1f%%',\n",
        "        shadow=True, startangle=90)\n",
        " \n",
        "plt.show()"
      ],
      "execution_count": null,
      "outputs": [
        {
          "output_type": "display_data",
          "data": {
            "image/png": "[encoded data removed]",
            "text/plain": [
              "<Figure size 432x288 with 1 Axes>"
            ]
          },
          "metadata": {}
        }
      ]
    }
  ]
}